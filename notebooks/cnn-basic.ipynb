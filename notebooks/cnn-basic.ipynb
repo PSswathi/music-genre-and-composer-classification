{
 "cells": [
  {
   "cell_type": "code",
   "execution_count": 1,
   "id": "bf36aafe",
   "metadata": {
    "vscode": {
     "languageId": "plaintext"
    }
   },
   "outputs": [],
   "source": [
    "import numpy as np\n",
    "import pandas as pd\n",
    "import matplotlib.pyplot as plt\n",
    "\n",
    "from sklearn.metrics import confusion_matrix, classification_report\n",
    "from sklearn.model_selection import train_test_split\n",
    "from sklearn.preprocessing import LabelEncoder, StandardScaler\n",
    "\n",
    "from helpers.processor import process_dir_to_chunks"
   ]
  },
  {
   "cell_type": "code",
   "execution_count": 2,
   "id": "c73bb161-7833-47d5-878f-6445c1b3bb66",
   "metadata": {},
   "outputs": [
    {
     "name": "stderr",
     "output_type": "stream",
     "text": [
      "2025-08-03 06:25:22.134740: I tensorflow/core/platform/cpu_feature_guard.cc:210] This TensorFlow binary is optimized to use available CPU instructions in performance-critical operations.\n",
      "To enable the following instructions: SSE4.1 SSE4.2 AVX AVX2 FMA, in other operations, rebuild TensorFlow with the appropriate compiler flags.\n"
     ]
    }
   ],
   "source": [
    "import tensorflow as tf\n",
    "from tensorflow import keras\n",
    "from keras import Sequential\n",
    "from keras.layers import Conv1D, MaxPooling1D, GlobalAveragePooling1D, Dense, Input\n",
    "from keras.utils import to_categorical"
   ]
  },
  {
   "cell_type": "code",
   "execution_count": 3,
   "id": "b4b583fb-920f-47ec-aabb-355ffe1b2918",
   "metadata": {},
   "outputs": [
    {
     "name": "stdout",
     "output_type": "stream",
     "text": [
      "  composer                        filename       tempo  num_instruments  \\\n",
      "0   Mozart  K495 Horn Concerto n4 1mov.mid  218.736624                8   \n",
      "1   Mozart  K495 Horn Concerto n4 1mov.mid  218.736624                8   \n",
      "2   Mozart  K495 Horn Concerto n4 1mov.mid  218.736624                8   \n",
      "3   Mozart  K495 Horn Concerto n4 1mov.mid  218.736624                8   \n",
      "4   Mozart  K495 Horn Concerto n4 1mov.mid  218.736624                8   \n",
      "\n",
      "    duration  note_count  avg_pitch  pitch_range  std_pitch  \\\n",
      "0   8.749994         200     63.725           50  11.842693   \n",
      "1   8.965511         200     65.105           52  13.510143   \n",
      "2   5.646548         200     66.345           48  11.992747   \n",
      "3  12.672404         200     59.035           50  11.767063   \n",
      "4   8.103442         200     61.420           45  12.572335   \n",
      "\n",
      "   most_common_pitch  avg_duration  std_duration  note_density  velocity_mean  \\\n",
      "0                 63      0.411638      0.734632     22.857160         78.975   \n",
      "1                 63      0.281573      0.273440     22.307709         78.025   \n",
      "2                 79      0.198976      0.107201     35.419873         79.910   \n",
      "3                 58      0.501778      1.127466     15.782324         67.760   \n",
      "4                 51      0.248599      0.301126     24.680869         75.110   \n",
      "\n",
      "   velocity_std  avg_chord_size  chord_density  \n",
      "0     13.685554        4.166667       5.485718  \n",
      "1     12.948914        4.000000       5.576927  \n",
      "2     11.811939        4.651163       7.615273  \n",
      "3      8.986790        3.846154       4.103404  \n",
      "4     10.999450        3.448276       7.157452  \n"
     ]
    }
   ],
   "source": [
    "dir_path = '../selectedcomposers'\n",
    "\n",
    "df = process_dir_to_chunks(dir_path, 200)\n",
    "\n",
    "print(df.head())"
   ]
  },
  {
   "cell_type": "code",
   "execution_count": 4,
   "id": "a48e95f4-5911-4caa-ab3b-c39151d616d8",
   "metadata": {},
   "outputs": [
    {
     "name": "stdout",
     "output_type": "stream",
     "text": [
      "<bound method Series.unique of 0        Mozart\n",
      "1        Mozart\n",
      "2        Mozart\n",
      "3        Mozart\n",
      "4        Mozart\n",
      "          ...  \n",
      "23634      Bach\n",
      "23635      Bach\n",
      "23636      Bach\n",
      "23637      Bach\n",
      "23638      Bach\n",
      "Name: composer, Length: 23639, dtype: object>\n"
     ]
    },
    {
     "data": {
      "text/html": [
       "<div>\n",
       "<style scoped>\n",
       "    .dataframe tbody tr th:only-of-type {\n",
       "        vertical-align: middle;\n",
       "    }\n",
       "\n",
       "    .dataframe tbody tr th {\n",
       "        vertical-align: top;\n",
       "    }\n",
       "\n",
       "    .dataframe thead th {\n",
       "        text-align: right;\n",
       "    }\n",
       "</style>\n",
       "<table border=\"1\" class=\"dataframe\">\n",
       "  <thead>\n",
       "    <tr style=\"text-align: right;\">\n",
       "      <th></th>\n",
       "      <th>composer</th>\n",
       "      <th>filename</th>\n",
       "      <th>tempo</th>\n",
       "      <th>num_instruments</th>\n",
       "      <th>duration</th>\n",
       "      <th>note_count</th>\n",
       "      <th>avg_pitch</th>\n",
       "      <th>pitch_range</th>\n",
       "      <th>std_pitch</th>\n",
       "      <th>most_common_pitch</th>\n",
       "      <th>avg_duration</th>\n",
       "      <th>std_duration</th>\n",
       "      <th>note_density</th>\n",
       "      <th>velocity_mean</th>\n",
       "      <th>velocity_std</th>\n",
       "      <th>avg_chord_size</th>\n",
       "      <th>chord_density</th>\n",
       "    </tr>\n",
       "  </thead>\n",
       "  <tbody>\n",
       "    <tr>\n",
       "      <th>0</th>\n",
       "      <td>Mozart</td>\n",
       "      <td>K495 Horn Concerto n4 1mov.mid</td>\n",
       "      <td>218.736624</td>\n",
       "      <td>8</td>\n",
       "      <td>8.749994</td>\n",
       "      <td>200</td>\n",
       "      <td>63.725</td>\n",
       "      <td>50</td>\n",
       "      <td>11.842693</td>\n",
       "      <td>63</td>\n",
       "      <td>0.411638</td>\n",
       "      <td>0.734632</td>\n",
       "      <td>22.857160</td>\n",
       "      <td>78.975</td>\n",
       "      <td>13.685554</td>\n",
       "      <td>4.166667</td>\n",
       "      <td>5.485718</td>\n",
       "    </tr>\n",
       "    <tr>\n",
       "      <th>1</th>\n",
       "      <td>Mozart</td>\n",
       "      <td>K495 Horn Concerto n4 1mov.mid</td>\n",
       "      <td>218.736624</td>\n",
       "      <td>8</td>\n",
       "      <td>8.965511</td>\n",
       "      <td>200</td>\n",
       "      <td>65.105</td>\n",
       "      <td>52</td>\n",
       "      <td>13.510143</td>\n",
       "      <td>63</td>\n",
       "      <td>0.281573</td>\n",
       "      <td>0.273440</td>\n",
       "      <td>22.307709</td>\n",
       "      <td>78.025</td>\n",
       "      <td>12.948914</td>\n",
       "      <td>4.000000</td>\n",
       "      <td>5.576927</td>\n",
       "    </tr>\n",
       "    <tr>\n",
       "      <th>2</th>\n",
       "      <td>Mozart</td>\n",
       "      <td>K495 Horn Concerto n4 1mov.mid</td>\n",
       "      <td>218.736624</td>\n",
       "      <td>8</td>\n",
       "      <td>5.646548</td>\n",
       "      <td>200</td>\n",
       "      <td>66.345</td>\n",
       "      <td>48</td>\n",
       "      <td>11.992747</td>\n",
       "      <td>79</td>\n",
       "      <td>0.198976</td>\n",
       "      <td>0.107201</td>\n",
       "      <td>35.419873</td>\n",
       "      <td>79.910</td>\n",
       "      <td>11.811939</td>\n",
       "      <td>4.651163</td>\n",
       "      <td>7.615273</td>\n",
       "    </tr>\n",
       "    <tr>\n",
       "      <th>3</th>\n",
       "      <td>Mozart</td>\n",
       "      <td>K495 Horn Concerto n4 1mov.mid</td>\n",
       "      <td>218.736624</td>\n",
       "      <td>8</td>\n",
       "      <td>12.672404</td>\n",
       "      <td>200</td>\n",
       "      <td>59.035</td>\n",
       "      <td>50</td>\n",
       "      <td>11.767063</td>\n",
       "      <td>58</td>\n",
       "      <td>0.501778</td>\n",
       "      <td>1.127466</td>\n",
       "      <td>15.782324</td>\n",
       "      <td>67.760</td>\n",
       "      <td>8.986790</td>\n",
       "      <td>3.846154</td>\n",
       "      <td>4.103404</td>\n",
       "    </tr>\n",
       "    <tr>\n",
       "      <th>4</th>\n",
       "      <td>Mozart</td>\n",
       "      <td>K495 Horn Concerto n4 1mov.mid</td>\n",
       "      <td>218.736624</td>\n",
       "      <td>8</td>\n",
       "      <td>8.103442</td>\n",
       "      <td>200</td>\n",
       "      <td>61.420</td>\n",
       "      <td>45</td>\n",
       "      <td>12.572335</td>\n",
       "      <td>51</td>\n",
       "      <td>0.248599</td>\n",
       "      <td>0.301126</td>\n",
       "      <td>24.680869</td>\n",
       "      <td>75.110</td>\n",
       "      <td>10.999450</td>\n",
       "      <td>3.448276</td>\n",
       "      <td>7.157452</td>\n",
       "    </tr>\n",
       "  </tbody>\n",
       "</table>\n",
       "</div>"
      ],
      "text/plain": [
       "  composer                        filename       tempo  num_instruments  \\\n",
       "0   Mozart  K495 Horn Concerto n4 1mov.mid  218.736624                8   \n",
       "1   Mozart  K495 Horn Concerto n4 1mov.mid  218.736624                8   \n",
       "2   Mozart  K495 Horn Concerto n4 1mov.mid  218.736624                8   \n",
       "3   Mozart  K495 Horn Concerto n4 1mov.mid  218.736624                8   \n",
       "4   Mozart  K495 Horn Concerto n4 1mov.mid  218.736624                8   \n",
       "\n",
       "    duration  note_count  avg_pitch  pitch_range  std_pitch  \\\n",
       "0   8.749994         200     63.725           50  11.842693   \n",
       "1   8.965511         200     65.105           52  13.510143   \n",
       "2   5.646548         200     66.345           48  11.992747   \n",
       "3  12.672404         200     59.035           50  11.767063   \n",
       "4   8.103442         200     61.420           45  12.572335   \n",
       "\n",
       "   most_common_pitch  avg_duration  std_duration  note_density  velocity_mean  \\\n",
       "0                 63      0.411638      0.734632     22.857160         78.975   \n",
       "1                 63      0.281573      0.273440     22.307709         78.025   \n",
       "2                 79      0.198976      0.107201     35.419873         79.910   \n",
       "3                 58      0.501778      1.127466     15.782324         67.760   \n",
       "4                 51      0.248599      0.301126     24.680869         75.110   \n",
       "\n",
       "   velocity_std  avg_chord_size  chord_density  \n",
       "0     13.685554        4.166667       5.485718  \n",
       "1     12.948914        4.000000       5.576927  \n",
       "2     11.811939        4.651163       7.615273  \n",
       "3      8.986790        3.846154       4.103404  \n",
       "4     10.999450        3.448276       7.157452  "
      ]
     },
     "execution_count": 4,
     "metadata": {},
     "output_type": "execute_result"
    }
   ],
   "source": [
    "print(df['composer'].unique)\n",
    "wanted = ['bach', 'beethoven', 'chopin', 'mozart']\n",
    "\n",
    "# filter, using str.lower() to match regardless of case\n",
    "df_augmented = df[df['composer'].str.lower().isin(wanted)].copy()\n",
    "df_augmented.head()"
   ]
  },
  {
   "cell_type": "code",
   "execution_count": 5,
   "id": "9ada57b8-f18f-4bcc-b7cd-a05f1bf4bd1a",
   "metadata": {},
   "outputs": [
    {
     "name": "stdout",
     "output_type": "stream",
     "text": [
      "\n",
      "Total shape: (23639, 17)\n",
      "\n",
      "Count by composer:\n",
      "composer\n",
      "Beethoven    7891\n",
      "Bach         7493\n",
      "Mozart       6724\n",
      "Chopin       1531\n",
      "Name: count, dtype: int64\n"
     ]
    }
   ],
   "source": [
    "print(f\"\\nTotal shape: {df_augmented.shape}\")\n",
    "print(\"\\nCount by composer:\")\n",
    "print(df_augmented['composer'].value_counts())"
   ]
  },
  {
   "cell_type": "code",
   "execution_count": 6,
   "id": "2dc3fcbe-b557-45bc-a17f-d0e99ee3e0d6",
   "metadata": {},
   "outputs": [],
   "source": [
    "X = df_augmented.drop(columns=['filename', 'composer'])\n",
    "y = df_augmented['composer']\n",
    "\n",
    "# label‑encode\n",
    "le = LabelEncoder()\n",
    "y_enc = le.fit_transform(y)\n",
    "y_cat = to_categorical(y_enc)\n",
    "\n",
    "# train/test split\n",
    "X_train, X_test, y_train, y_test = train_test_split(\n",
    "    X, y_cat, test_size=0.2, stratify=y_enc, random_state=42\n",
    ")\n",
    "\n",
    "# feature scaling\n",
    "scaler = StandardScaler()\n",
    "X_train = scaler.fit_transform(X_train)\n",
    "X_test  = scaler.transform(X_test)\n",
    "\n",
    "# reshape for Conv1D: (samples, features, 1)\n",
    "X_train_reshaped = X_train[..., np.newaxis]\n",
    "X_test_reshaped  = X_test[...,  np.newaxis]\n",
    "\n",
    "# build the model\n",
    "n_features = X_train_reshaped.shape[1]\n",
    "n_classes  = y_cat.shape[1]"
   ]
  },
  {
   "cell_type": "code",
   "execution_count": 7,
   "id": "4f48d562-a8e9-4250-8a16-9789dc8d0114",
   "metadata": {},
   "outputs": [
    {
     "data": {
      "text/html": [
       "<pre style=\"white-space:pre;overflow-x:auto;line-height:normal;font-family:Menlo,'DejaVu Sans Mono',consolas,'Courier New',monospace\"><span style=\"font-weight: bold\">Model: \"sequential\"</span>\n",
       "</pre>\n"
      ],
      "text/plain": [
       "\u001b[1mModel: \"sequential\"\u001b[0m\n"
      ]
     },
     "metadata": {},
     "output_type": "display_data"
    },
    {
     "data": {
      "text/html": [
       "<pre style=\"white-space:pre;overflow-x:auto;line-height:normal;font-family:Menlo,'DejaVu Sans Mono',consolas,'Courier New',monospace\">┏━━━━━━━━━━━━━━━━━━━━━━━━━━━━━━━━━┳━━━━━━━━━━━━━━━━━━━━━━━━┳━━━━━━━━━━━━━━━┓\n",
       "┃<span style=\"font-weight: bold\"> Layer (type)                    </span>┃<span style=\"font-weight: bold\"> Output Shape           </span>┃<span style=\"font-weight: bold\">       Param # </span>┃\n",
       "┡━━━━━━━━━━━━━━━━━━━━━━━━━━━━━━━━━╇━━━━━━━━━━━━━━━━━━━━━━━━╇━━━━━━━━━━━━━━━┩\n",
       "│ conv1d (<span style=\"color: #0087ff; text-decoration-color: #0087ff\">Conv1D</span>)                 │ (<span style=\"color: #00d7ff; text-decoration-color: #00d7ff\">None</span>, <span style=\"color: #00af00; text-decoration-color: #00af00\">13</span>, <span style=\"color: #00af00; text-decoration-color: #00af00\">64</span>)         │           <span style=\"color: #00af00; text-decoration-color: #00af00\">256</span> │\n",
       "├─────────────────────────────────┼────────────────────────┼───────────────┤\n",
       "│ max_pooling1d (<span style=\"color: #0087ff; text-decoration-color: #0087ff\">MaxPooling1D</span>)    │ (<span style=\"color: #00d7ff; text-decoration-color: #00d7ff\">None</span>, <span style=\"color: #00af00; text-decoration-color: #00af00\">6</span>, <span style=\"color: #00af00; text-decoration-color: #00af00\">64</span>)          │             <span style=\"color: #00af00; text-decoration-color: #00af00\">0</span> │\n",
       "├─────────────────────────────────┼────────────────────────┼───────────────┤\n",
       "│ conv1d_1 (<span style=\"color: #0087ff; text-decoration-color: #0087ff\">Conv1D</span>)               │ (<span style=\"color: #00d7ff; text-decoration-color: #00d7ff\">None</span>, <span style=\"color: #00af00; text-decoration-color: #00af00\">4</span>, <span style=\"color: #00af00; text-decoration-color: #00af00\">32</span>)          │         <span style=\"color: #00af00; text-decoration-color: #00af00\">6,176</span> │\n",
       "├─────────────────────────────────┼────────────────────────┼───────────────┤\n",
       "│ global_average_pooling1d        │ (<span style=\"color: #00d7ff; text-decoration-color: #00d7ff\">None</span>, <span style=\"color: #00af00; text-decoration-color: #00af00\">32</span>)             │             <span style=\"color: #00af00; text-decoration-color: #00af00\">0</span> │\n",
       "│ (<span style=\"color: #0087ff; text-decoration-color: #0087ff\">GlobalAveragePooling1D</span>)        │                        │               │\n",
       "├─────────────────────────────────┼────────────────────────┼───────────────┤\n",
       "│ dense (<span style=\"color: #0087ff; text-decoration-color: #0087ff\">Dense</span>)                   │ (<span style=\"color: #00d7ff; text-decoration-color: #00d7ff\">None</span>, <span style=\"color: #00af00; text-decoration-color: #00af00\">32</span>)             │         <span style=\"color: #00af00; text-decoration-color: #00af00\">1,056</span> │\n",
       "├─────────────────────────────────┼────────────────────────┼───────────────┤\n",
       "│ dense_1 (<span style=\"color: #0087ff; text-decoration-color: #0087ff\">Dense</span>)                 │ (<span style=\"color: #00d7ff; text-decoration-color: #00d7ff\">None</span>, <span style=\"color: #00af00; text-decoration-color: #00af00\">4</span>)              │           <span style=\"color: #00af00; text-decoration-color: #00af00\">132</span> │\n",
       "└─────────────────────────────────┴────────────────────────┴───────────────┘\n",
       "</pre>\n"
      ],
      "text/plain": [
       "┏━━━━━━━━━━━━━━━━━━━━━━━━━━━━━━━━━┳━━━━━━━━━━━━━━━━━━━━━━━━┳━━━━━━━━━━━━━━━┓\n",
       "┃\u001b[1m \u001b[0m\u001b[1mLayer (type)                   \u001b[0m\u001b[1m \u001b[0m┃\u001b[1m \u001b[0m\u001b[1mOutput Shape          \u001b[0m\u001b[1m \u001b[0m┃\u001b[1m \u001b[0m\u001b[1m      Param #\u001b[0m\u001b[1m \u001b[0m┃\n",
       "┡━━━━━━━━━━━━━━━━━━━━━━━━━━━━━━━━━╇━━━━━━━━━━━━━━━━━━━━━━━━╇━━━━━━━━━━━━━━━┩\n",
       "│ conv1d (\u001b[38;5;33mConv1D\u001b[0m)                 │ (\u001b[38;5;45mNone\u001b[0m, \u001b[38;5;34m13\u001b[0m, \u001b[38;5;34m64\u001b[0m)         │           \u001b[38;5;34m256\u001b[0m │\n",
       "├─────────────────────────────────┼────────────────────────┼───────────────┤\n",
       "│ max_pooling1d (\u001b[38;5;33mMaxPooling1D\u001b[0m)    │ (\u001b[38;5;45mNone\u001b[0m, \u001b[38;5;34m6\u001b[0m, \u001b[38;5;34m64\u001b[0m)          │             \u001b[38;5;34m0\u001b[0m │\n",
       "├─────────────────────────────────┼────────────────────────┼───────────────┤\n",
       "│ conv1d_1 (\u001b[38;5;33mConv1D\u001b[0m)               │ (\u001b[38;5;45mNone\u001b[0m, \u001b[38;5;34m4\u001b[0m, \u001b[38;5;34m32\u001b[0m)          │         \u001b[38;5;34m6,176\u001b[0m │\n",
       "├─────────────────────────────────┼────────────────────────┼───────────────┤\n",
       "│ global_average_pooling1d        │ (\u001b[38;5;45mNone\u001b[0m, \u001b[38;5;34m32\u001b[0m)             │             \u001b[38;5;34m0\u001b[0m │\n",
       "│ (\u001b[38;5;33mGlobalAveragePooling1D\u001b[0m)        │                        │               │\n",
       "├─────────────────────────────────┼────────────────────────┼───────────────┤\n",
       "│ dense (\u001b[38;5;33mDense\u001b[0m)                   │ (\u001b[38;5;45mNone\u001b[0m, \u001b[38;5;34m32\u001b[0m)             │         \u001b[38;5;34m1,056\u001b[0m │\n",
       "├─────────────────────────────────┼────────────────────────┼───────────────┤\n",
       "│ dense_1 (\u001b[38;5;33mDense\u001b[0m)                 │ (\u001b[38;5;45mNone\u001b[0m, \u001b[38;5;34m4\u001b[0m)              │           \u001b[38;5;34m132\u001b[0m │\n",
       "└─────────────────────────────────┴────────────────────────┴───────────────┘\n"
      ]
     },
     "metadata": {},
     "output_type": "display_data"
    },
    {
     "data": {
      "text/html": [
       "<pre style=\"white-space:pre;overflow-x:auto;line-height:normal;font-family:Menlo,'DejaVu Sans Mono',consolas,'Courier New',monospace\"><span style=\"font-weight: bold\"> Total params: </span><span style=\"color: #00af00; text-decoration-color: #00af00\">7,620</span> (29.77 KB)\n",
       "</pre>\n"
      ],
      "text/plain": [
       "\u001b[1m Total params: \u001b[0m\u001b[38;5;34m7,620\u001b[0m (29.77 KB)\n"
      ]
     },
     "metadata": {},
     "output_type": "display_data"
    },
    {
     "data": {
      "text/html": [
       "<pre style=\"white-space:pre;overflow-x:auto;line-height:normal;font-family:Menlo,'DejaVu Sans Mono',consolas,'Courier New',monospace\"><span style=\"font-weight: bold\"> Trainable params: </span><span style=\"color: #00af00; text-decoration-color: #00af00\">7,620</span> (29.77 KB)\n",
       "</pre>\n"
      ],
      "text/plain": [
       "\u001b[1m Trainable params: \u001b[0m\u001b[38;5;34m7,620\u001b[0m (29.77 KB)\n"
      ]
     },
     "metadata": {},
     "output_type": "display_data"
    },
    {
     "data": {
      "text/html": [
       "<pre style=\"white-space:pre;overflow-x:auto;line-height:normal;font-family:Menlo,'DejaVu Sans Mono',consolas,'Courier New',monospace\"><span style=\"font-weight: bold\"> Non-trainable params: </span><span style=\"color: #00af00; text-decoration-color: #00af00\">0</span> (0.00 B)\n",
       "</pre>\n"
      ],
      "text/plain": [
       "\u001b[1m Non-trainable params: \u001b[0m\u001b[38;5;34m0\u001b[0m (0.00 B)\n"
      ]
     },
     "metadata": {},
     "output_type": "display_data"
    }
   ],
   "source": [
    "model = Sequential()\n",
    "model.add(Input(shape=(n_features, 1)))\n",
    "model.add(Conv1D(64, kernel_size=3, activation='relu'))\n",
    "model.add(MaxPooling1D(pool_size=2))\n",
    "model.add(Conv1D(32, kernel_size=3, activation='relu'))\n",
    "model.add(GlobalAveragePooling1D())\n",
    "model.add(Dense(32, activation='relu'))\n",
    "model.add(Dense(n_classes, activation='softmax'))\n",
    "\n",
    "model.compile(\n",
    "    loss='categorical_crossentropy',\n",
    "    optimizer='adam',\n",
    "    metrics=['accuracy']\n",
    ")\n",
    "\n",
    "model.summary()"
   ]
  },
  {
   "cell_type": "code",
   "execution_count": 8,
   "id": "a4a63e31-9b52-44ea-982f-47cf03e32979",
   "metadata": {},
   "outputs": [
    {
     "name": "stdout",
     "output_type": "stream",
     "text": [
      "Epoch 1/30\n",
      "\u001b[1m473/473\u001b[0m \u001b[32m━━━━━━━━━━━━━━━━━━━━\u001b[0m\u001b[37m\u001b[0m \u001b[1m2s\u001b[0m 2ms/step - accuracy: 0.4530 - loss: 1.1791 - val_accuracy: 0.5778 - val_loss: 0.9729\n",
      "Epoch 2/30\n",
      "\u001b[1m473/473\u001b[0m \u001b[32m━━━━━━━━━━━━━━━━━━━━\u001b[0m\u001b[37m\u001b[0m \u001b[1m1s\u001b[0m 1ms/step - accuracy: 0.5914 - loss: 0.9563 - val_accuracy: 0.6386 - val_loss: 0.8865\n",
      "Epoch 3/30\n",
      "\u001b[1m473/473\u001b[0m \u001b[32m━━━━━━━━━━━━━━━━━━━━\u001b[0m\u001b[37m\u001b[0m \u001b[1m1s\u001b[0m 1ms/step - accuracy: 0.6478 - loss: 0.8678 - val_accuracy: 0.6400 - val_loss: 0.8627\n",
      "Epoch 4/30\n",
      "\u001b[1m473/473\u001b[0m \u001b[32m━━━━━━━━━━━━━━━━━━━━\u001b[0m\u001b[37m\u001b[0m \u001b[1m1s\u001b[0m 1ms/step - accuracy: 0.6679 - loss: 0.8187 - val_accuracy: 0.6537 - val_loss: 0.8363\n",
      "Epoch 5/30\n",
      "\u001b[1m473/473\u001b[0m \u001b[32m━━━━━━━━━━━━━━━━━━━━\u001b[0m\u001b[37m\u001b[0m \u001b[1m1s\u001b[0m 1ms/step - accuracy: 0.6799 - loss: 0.7989 - val_accuracy: 0.6717 - val_loss: 0.8043\n",
      "Epoch 6/30\n",
      "\u001b[1m473/473\u001b[0m \u001b[32m━━━━━━━━━━━━━━━━━━━━\u001b[0m\u001b[37m\u001b[0m \u001b[1m1s\u001b[0m 1ms/step - accuracy: 0.6823 - loss: 0.7785 - val_accuracy: 0.6764 - val_loss: 0.7810\n",
      "Epoch 7/30\n",
      "\u001b[1m473/473\u001b[0m \u001b[32m━━━━━━━━━━━━━━━━━━━━\u001b[0m\u001b[37m\u001b[0m \u001b[1m1s\u001b[0m 1ms/step - accuracy: 0.7036 - loss: 0.7440 - val_accuracy: 0.6706 - val_loss: 0.7964\n",
      "Epoch 8/30\n",
      "\u001b[1m473/473\u001b[0m \u001b[32m━━━━━━━━━━━━━━━━━━━━\u001b[0m\u001b[37m\u001b[0m \u001b[1m1s\u001b[0m 1ms/step - accuracy: 0.7038 - loss: 0.7400 - val_accuracy: 0.6875 - val_loss: 0.7489\n",
      "Epoch 9/30\n",
      "\u001b[1m473/473\u001b[0m \u001b[32m━━━━━━━━━━━━━━━━━━━━\u001b[0m\u001b[37m\u001b[0m \u001b[1m1s\u001b[0m 1ms/step - accuracy: 0.7019 - loss: 0.7375 - val_accuracy: 0.6934 - val_loss: 0.7411\n",
      "Epoch 10/30\n",
      "\u001b[1m473/473\u001b[0m \u001b[32m━━━━━━━━━━━━━━━━━━━━\u001b[0m\u001b[37m\u001b[0m \u001b[1m1s\u001b[0m 2ms/step - accuracy: 0.7137 - loss: 0.7095 - val_accuracy: 0.6920 - val_loss: 0.7465\n",
      "Epoch 11/30\n",
      "\u001b[1m473/473\u001b[0m \u001b[32m━━━━━━━━━━━━━━━━━━━━\u001b[0m\u001b[37m\u001b[0m \u001b[1m1s\u001b[0m 1ms/step - accuracy: 0.7192 - loss: 0.7048 - val_accuracy: 0.7018 - val_loss: 0.7266\n",
      "Epoch 12/30\n",
      "\u001b[1m473/473\u001b[0m \u001b[32m━━━━━━━━━━━━━━━━━━━━\u001b[0m\u001b[37m\u001b[0m \u001b[1m1s\u001b[0m 1ms/step - accuracy: 0.7223 - loss: 0.6975 - val_accuracy: 0.6957 - val_loss: 0.7269\n",
      "Epoch 13/30\n",
      "\u001b[1m473/473\u001b[0m \u001b[32m━━━━━━━━━━━━━━━━━━━━\u001b[0m\u001b[37m\u001b[0m \u001b[1m1s\u001b[0m 1ms/step - accuracy: 0.7305 - loss: 0.6803 - val_accuracy: 0.6942 - val_loss: 0.7651\n",
      "Epoch 14/30\n",
      "\u001b[1m473/473\u001b[0m \u001b[32m━━━━━━━━━━━━━━━━━━━━\u001b[0m\u001b[37m\u001b[0m \u001b[1m1s\u001b[0m 1ms/step - accuracy: 0.7323 - loss: 0.6800 - val_accuracy: 0.7039 - val_loss: 0.7171\n",
      "Epoch 15/30\n",
      "\u001b[1m473/473\u001b[0m \u001b[32m━━━━━━━━━━━━━━━━━━━━\u001b[0m\u001b[37m\u001b[0m \u001b[1m1s\u001b[0m 1ms/step - accuracy: 0.7386 - loss: 0.6597 - val_accuracy: 0.7113 - val_loss: 0.7158\n",
      "Epoch 16/30\n",
      "\u001b[1m473/473\u001b[0m \u001b[32m━━━━━━━━━━━━━━━━━━━━\u001b[0m\u001b[37m\u001b[0m \u001b[1m1s\u001b[0m 2ms/step - accuracy: 0.7399 - loss: 0.6575 - val_accuracy: 0.7090 - val_loss: 0.7151\n",
      "Epoch 17/30\n",
      "\u001b[1m473/473\u001b[0m \u001b[32m━━━━━━━━━━━━━━━━━━━━\u001b[0m\u001b[37m\u001b[0m \u001b[1m1s\u001b[0m 2ms/step - accuracy: 0.7383 - loss: 0.6605 - val_accuracy: 0.7172 - val_loss: 0.6923\n",
      "Epoch 18/30\n",
      "\u001b[1m473/473\u001b[0m \u001b[32m━━━━━━━━━━━━━━━━━━━━\u001b[0m\u001b[37m\u001b[0m \u001b[1m1s\u001b[0m 1ms/step - accuracy: 0.7448 - loss: 0.6410 - val_accuracy: 0.7161 - val_loss: 0.6985\n",
      "Epoch 19/30\n",
      "\u001b[1m473/473\u001b[0m \u001b[32m━━━━━━━━━━━━━━━━━━━━\u001b[0m\u001b[37m\u001b[0m \u001b[1m1s\u001b[0m 2ms/step - accuracy: 0.7404 - loss: 0.6503 - val_accuracy: 0.7161 - val_loss: 0.6991\n",
      "Epoch 20/30\n",
      "\u001b[1m473/473\u001b[0m \u001b[32m━━━━━━━━━━━━━━━━━━━━\u001b[0m\u001b[37m\u001b[0m \u001b[1m1s\u001b[0m 1ms/step - accuracy: 0.7477 - loss: 0.6440 - val_accuracy: 0.7137 - val_loss: 0.6917\n",
      "Epoch 21/30\n",
      "\u001b[1m473/473\u001b[0m \u001b[32m━━━━━━━━━━━━━━━━━━━━\u001b[0m\u001b[37m\u001b[0m \u001b[1m1s\u001b[0m 1ms/step - accuracy: 0.7499 - loss: 0.6288 - val_accuracy: 0.7100 - val_loss: 0.7053\n",
      "Epoch 22/30\n",
      "\u001b[1m473/473\u001b[0m \u001b[32m━━━━━━━━━━━━━━━━━━━━\u001b[0m\u001b[37m\u001b[0m \u001b[1m1s\u001b[0m 1ms/step - accuracy: 0.7511 - loss: 0.6390 - val_accuracy: 0.7166 - val_loss: 0.6939\n",
      "Epoch 23/30\n",
      "\u001b[1m473/473\u001b[0m \u001b[32m━━━━━━━━━━━━━━━━━━━━\u001b[0m\u001b[37m\u001b[0m \u001b[1m1s\u001b[0m 1ms/step - accuracy: 0.7486 - loss: 0.6214 - val_accuracy: 0.7256 - val_loss: 0.6725\n",
      "Epoch 24/30\n",
      "\u001b[1m473/473\u001b[0m \u001b[32m━━━━━━━━━━━━━━━━━━━━\u001b[0m\u001b[37m\u001b[0m \u001b[1m1s\u001b[0m 2ms/step - accuracy: 0.7523 - loss: 0.6221 - val_accuracy: 0.7209 - val_loss: 0.6889\n",
      "Epoch 25/30\n",
      "\u001b[1m473/473\u001b[0m \u001b[32m━━━━━━━━━━━━━━━━━━━━\u001b[0m\u001b[37m\u001b[0m \u001b[1m1s\u001b[0m 1ms/step - accuracy: 0.7574 - loss: 0.6183 - val_accuracy: 0.7264 - val_loss: 0.6845\n",
      "Epoch 26/30\n",
      "\u001b[1m473/473\u001b[0m \u001b[32m━━━━━━━━━━━━━━━━━━━━\u001b[0m\u001b[37m\u001b[0m \u001b[1m1s\u001b[0m 1ms/step - accuracy: 0.7639 - loss: 0.6104 - val_accuracy: 0.7314 - val_loss: 0.6574\n",
      "Epoch 27/30\n",
      "\u001b[1m473/473\u001b[0m \u001b[32m━━━━━━━━━━━━━━━━━━━━\u001b[0m\u001b[37m\u001b[0m \u001b[1m1s\u001b[0m 1ms/step - accuracy: 0.7607 - loss: 0.6063 - val_accuracy: 0.7232 - val_loss: 0.6833\n",
      "Epoch 28/30\n",
      "\u001b[1m473/473\u001b[0m \u001b[32m━━━━━━━━━━━━━━━━━━━━\u001b[0m\u001b[37m\u001b[0m \u001b[1m1s\u001b[0m 1ms/step - accuracy: 0.7562 - loss: 0.6177 - val_accuracy: 0.7256 - val_loss: 0.6754\n",
      "Epoch 29/30\n",
      "\u001b[1m473/473\u001b[0m \u001b[32m━━━━━━━━━━━━━━━━━━━━\u001b[0m\u001b[37m\u001b[0m \u001b[1m1s\u001b[0m 1ms/step - accuracy: 0.7568 - loss: 0.6045 - val_accuracy: 0.7129 - val_loss: 0.7012\n",
      "Epoch 30/30\n",
      "\u001b[1m473/473\u001b[0m \u001b[32m━━━━━━━━━━━━━━━━━━━━\u001b[0m\u001b[37m\u001b[0m \u001b[1m1s\u001b[0m 2ms/step - accuracy: 0.7622 - loss: 0.6007 - val_accuracy: 0.7359 - val_loss: 0.6476\n"
     ]
    }
   ],
   "source": [
    "history = model.fit(\n",
    "    X_train_reshaped, y_train,\n",
    "    validation_split=0.2,\n",
    "    epochs=30,\n",
    "    batch_size=32\n",
    ")"
   ]
  },
  {
   "cell_type": "code",
   "execution_count": 9,
   "id": "996ca787-efcd-4afd-b455-a4f90fdb1e28",
   "metadata": {},
   "outputs": [
    {
     "name": "stdout",
     "output_type": "stream",
     "text": [
      "\u001b[1m148/148\u001b[0m \u001b[32m━━━━━━━━━━━━━━━━━━━━\u001b[0m\u001b[37m\u001b[0m \u001b[1m0s\u001b[0m 862us/step - accuracy: 0.7488 - loss: 0.6275\n",
      "Test accuracy: 0.740\n"
     ]
    }
   ],
   "source": [
    "loss, acc = model.evaluate(X_test_reshaped, y_test)\n",
    "print(f'Test accuracy: {acc:.3f}')"
   ]
  },
  {
   "cell_type": "code",
   "execution_count": 10,
   "id": "a4f773b8-b13b-4859-8daa-45dfad7872ca",
   "metadata": {},
   "outputs": [
    {
     "name": "stdout",
     "output_type": "stream",
     "text": [
      "\u001b[1m148/148\u001b[0m \u001b[32m━━━━━━━━━━━━━━━━━━━━\u001b[0m\u001b[37m\u001b[0m \u001b[1m0s\u001b[0m 1ms/step\n"
     ]
    }
   ],
   "source": [
    "# Generate predictions\n",
    "y_prob = model.predict(X_test)\n",
    "y_pred = np.argmax(y_prob, axis=1)\n",
    "y_true = np.argmax(y_test, axis=1)\n",
    "class_names = le.classes_"
   ]
  },
  {
   "cell_type": "code",
   "execution_count": 11,
   "id": "20058242-a1eb-481f-8bb2-36e29a41da73",
   "metadata": {},
   "outputs": [
    {
     "data": {
      "image/png": "[encoded data removed]",
      "text/plain": [
       "<Figure size 640x480 with 2 Axes>"
      ]
     },
     "metadata": {},
     "output_type": "display_data"
    }
   ],
   "source": [
    "# Confusion matrix\n",
    "cm = confusion_matrix(y_true, y_pred)\n",
    "\n",
    "# Plot confusion matrix\n",
    "plt.figure()\n",
    "plt.imshow(cm, interpolation='nearest')\n",
    "plt.title('Confusion Matrix')\n",
    "plt.xlabel('Predicted')\n",
    "plt.ylabel('Actual')\n",
    "plt.xticks(np.arange(len(class_names)), class_names, rotation=45)\n",
    "plt.yticks(np.arange(len(class_names)), class_names)\n",
    "plt.colorbar()\n",
    "plt.tight_layout()\n",
    "plt.show()"
   ]
  },
  {
   "cell_type": "code",
   "execution_count": 12,
   "id": "2f5e4b13-f6c1-4f91-92c0-392683f2fead",
   "metadata": {},
   "outputs": [
    {
     "data": {
      "text/html": [
       "<div>\n",
       "<style scoped>\n",
       "    .dataframe tbody tr th:only-of-type {\n",
       "        vertical-align: middle;\n",
       "    }\n",
       "\n",
       "    .dataframe tbody tr th {\n",
       "        vertical-align: top;\n",
       "    }\n",
       "\n",
       "    .dataframe thead th {\n",
       "        text-align: right;\n",
       "    }\n",
       "</style>\n",
       "<table border=\"1\" class=\"dataframe\">\n",
       "  <thead>\n",
       "    <tr style=\"text-align: right;\">\n",
       "      <th></th>\n",
       "      <th>precision</th>\n",
       "      <th>recall</th>\n",
       "      <th>f1-score</th>\n",
       "      <th>support</th>\n",
       "    </tr>\n",
       "  </thead>\n",
       "  <tbody>\n",
       "    <tr>\n",
       "      <th>Bach</th>\n",
       "      <td>0.860704</td>\n",
       "      <td>0.783189</td>\n",
       "      <td>0.820119</td>\n",
       "      <td>1499.000000</td>\n",
       "    </tr>\n",
       "    <tr>\n",
       "      <th>Beethoven</th>\n",
       "      <td>0.729383</td>\n",
       "      <td>0.756654</td>\n",
       "      <td>0.742768</td>\n",
       "      <td>1578.000000</td>\n",
       "    </tr>\n",
       "    <tr>\n",
       "      <th>Chopin</th>\n",
       "      <td>0.691964</td>\n",
       "      <td>0.506536</td>\n",
       "      <td>0.584906</td>\n",
       "      <td>306.000000</td>\n",
       "    </tr>\n",
       "    <tr>\n",
       "      <th>Mozart</th>\n",
       "      <td>0.648703</td>\n",
       "      <td>0.724907</td>\n",
       "      <td>0.684691</td>\n",
       "      <td>1345.000000</td>\n",
       "    </tr>\n",
       "    <tr>\n",
       "      <th>accuracy</th>\n",
       "      <td>0.739848</td>\n",
       "      <td>0.739848</td>\n",
       "      <td>0.739848</td>\n",
       "      <td>0.739848</td>\n",
       "    </tr>\n",
       "  </tbody>\n",
       "</table>\n",
       "</div>"
      ],
      "text/plain": [
       "           precision    recall  f1-score      support\n",
       "Bach        0.860704  0.783189  0.820119  1499.000000\n",
       "Beethoven   0.729383  0.756654  0.742768  1578.000000\n",
       "Chopin      0.691964  0.506536  0.584906   306.000000\n",
       "Mozart      0.648703  0.724907  0.684691  1345.000000\n",
       "accuracy    0.739848  0.739848  0.739848     0.739848"
      ]
     },
     "execution_count": 12,
     "metadata": {},
     "output_type": "execute_result"
    }
   ],
   "source": [
    "# Classification report\n",
    "report_dict = classification_report(y_true, y_pred, target_names=class_names, output_dict=True)\n",
    "df_report = pd.DataFrame(report_dict).transpose()\n",
    "\n",
    "df_report.head()"
   ]
  },
  {
   "cell_type": "code",
   "execution_count": 13,
   "id": "eceb600c-af37-46a0-b679-2aebd75d1054",
   "metadata": {},
   "outputs": [
    {
     "data": {
      "image/png": "[encoded data removed]",
      "text/plain": [
       "<Figure size 640x480 with 1 Axes>"
      ]
     },
     "metadata": {},
     "output_type": "display_data"
    }
   ],
   "source": [
    "# Plot training history: accuracy\n",
    "plt.figure()\n",
    "plt.plot(history.history['accuracy'])\n",
    "plt.plot(history.history['val_accuracy'])\n",
    "plt.title('Training & Validation Accuracy')\n",
    "plt.xlabel('Epoch')\n",
    "plt.ylabel('Accuracy')\n",
    "plt.legend(['Train', 'Validation'])\n",
    "plt.tight_layout()\n",
    "plt.show()"
   ]
  },
  {
   "cell_type": "code",
   "execution_count": 14,
   "id": "f1c29ba1-66f6-4f20-b83e-5b8d90f9ae91",
   "metadata": {},
   "outputs": [
    {
     "data": {
      "image/png": "[encoded data removed]",
      "text/plain": [
       "<Figure size 640x480 with 1 Axes>"
      ]
     },
     "metadata": {},
     "output_type": "display_data"
    }
   ],
   "source": [
    "# Plot training history: loss\n",
    "plt.figure()\n",
    "plt.plot(history.history['loss'])\n",
    "plt.plot(history.history['val_loss'])\n",
    "plt.title('Training & Validation Loss')\n",
    "plt.xlabel('Epoch')\n",
    "plt.ylabel('Loss')\n",
    "plt.legend(['Train', 'Validation'])\n",
    "plt.tight_layout()\n",
    "plt.show()"
   ]
  }
 ],
 "metadata": {
  "kernelspec": {
   "display_name": "Python 3 (ipykernel)",
   "language": "python",
   "name": "python3"
  },
  "language_info": {
   "codemirror_mode": {
    "name": "ipython",
    "version": 3
   },
   "file_extension": ".py",
   "mimetype": "text/x-python",
   "name": "python",
   "nbconvert_exporter": "python",
   "pygments_lexer": "ipython3",
   "version": "3.12.2"
  }
 },
 "nbformat": 4,
 "nbformat_minor": 5
}
