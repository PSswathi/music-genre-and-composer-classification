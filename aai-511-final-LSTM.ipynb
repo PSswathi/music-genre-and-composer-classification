{
 "cells": [
  {
   "cell_type": "code",
   "execution_count": 31,
   "id": "2fa8d3e6",
   "metadata": {},
   "outputs": [],
   "source": [
    "import numpy as np \n",
    "import zipfile\n",
    "import io\n",
    "import pretty_midi\n",
    "import os\n",
    "import pandas as pd \n",
    "import tensorflow as tf \n",
    "from tensorflow import keras\n",
    "from sklearn.preprocessing import StandardScaler, LabelEncoder\n",
    "from collections import Counter\n",
    "import tempfile\n",
    "import pygame\n",
    "from tensorflow.keras.models import Sequential\n",
    "from tensorflow.keras.layers import Input, LSTM, Dropout, Dense\n",
    "from tensorflow.keras.utils import to_categorical\n",
    "from sklearn.metrics import classification_report, confusion_matrix\n",
    "import matplotlib.pyplot as plt\n",
    "import seaborn as sns\n"
   ]
  },
  {
   "cell_type": "code",
   "execution_count": 2,
   "id": "2709fb52",
   "metadata": {},
   "outputs": [],
   "source": [
    "def extract_features(notes, tempo, num_instruments, split, composer, filename):\n",
    "    if not notes:\n",
    "        return None\n",
    "\n",
    "    notes.sort(key=lambda n: n.start)\n",
    "\n",
    "    chunk_duration = notes[-1].end - notes[0].start\n",
    "    pitches = [n.pitch for n in notes]\n",
    "    durations = [n.end - n.start for n in notes]\n",
    "    velocities = [n.velocity for n in notes]\n",
    "    onsets = [round(n.start, 3) for n in notes]  # rounded for grouping\n",
    "\n",
    "    # Polyphony analysis: map onset → notes starting at that time\n",
    "    onset_counts = Counter(onsets)\n",
    "    chord_sizes = list(onset_counts.values())\n",
    "\n",
    "    avg_chord_size = np.mean(chord_sizes) if chord_sizes else 0\n",
    "    chord_density = len(onset_counts) / chunk_duration if chunk_duration > 0 else 0\n",
    "\n",
    "    note_count = len(notes)\n",
    "    avg_pitch = np.mean(pitches)\n",
    "    pitch_range = max(pitches) - min(pitches)\n",
    "    std_pitch = np.std(pitches)\n",
    "    most_common_pitch = Counter(pitches).most_common(1)[0][0]\n",
    "\n",
    "    avg_duration = np.mean(durations)\n",
    "    std_duration = np.std(durations)\n",
    "    note_density = note_count / chunk_duration if chunk_duration > 0 else 0\n",
    "    velocity_mean = np.mean(velocities)\n",
    "    velocity_std = np.std(velocities)\n",
    "\n",
    "    return {\n",
    "        'split': split,\n",
    "        'composer': composer,\n",
    "        'filename': filename,\n",
    "        'tempo': tempo,\n",
    "        'num_instruments': num_instruments,\n",
    "        'duration': chunk_duration,\n",
    "        'note_count': note_count,\n",
    "        'avg_pitch': avg_pitch,\n",
    "        'pitch_range': pitch_range,\n",
    "        'std_pitch': std_pitch,\n",
    "        'most_common_pitch': most_common_pitch,\n",
    "        'avg_duration': avg_duration,\n",
    "        'std_duration': std_duration,\n",
    "        'note_density': note_density,\n",
    "        'velocity_mean': velocity_mean,\n",
    "        'velocity_std': velocity_std,\n",
    "        'avg_chord_size': avg_chord_size,\n",
    "        'chord_density': chord_density\n",
    "    }"
   ]
  },
  {
   "cell_type": "code",
   "execution_count": 3,
   "id": "6c584ae4",
   "metadata": {},
   "outputs": [],
   "source": [
    "def chunk_notes(notes, chunk_size=200):\n",
    "    \"\"\"Split list of notes into chunks of size `chunk_size`.\"\"\"\n",
    "    return [notes[i:i + chunk_size] for i in range(0, len(notes), chunk_size) if len(notes[i:i + chunk_size]) == chunk_size]"
   ]
  },
  {
   "cell_type": "code",
   "execution_count": 4,
   "id": "3739a60e",
   "metadata": {},
   "outputs": [],
   "source": [
    "def process_zip_to_chunks(zip_path, chunk_size=200):\n",
    "    data = []\n",
    "\n",
    "    with zipfile.ZipFile(zip_path, 'r') as archive:\n",
    "        for file in archive.namelist():\n",
    "            if (\n",
    "                file.endswith('.mid') or file.endswith('.midi')\n",
    "            ) and '__MACOSX' not in file and not os.path.basename(file).startswith('._'):\n",
    "\n",
    "                parts = file.split('/')\n",
    "                if len(parts) >= 5:\n",
    "                    split = parts[2]\n",
    "                    composer = parts[3]\n",
    "                    filename = parts[-1]\n",
    "\n",
    "                    with archive.open(file) as midi_file:\n",
    "                        try:\n",
    "                            midi_bytes = midi_file.read()\n",
    "                            midi_data = pretty_midi.PrettyMIDI(io.BytesIO(midi_bytes))\n",
    "\n",
    "                            tempo = midi_data.estimate_tempo()\n",
    "                            num_instruments = len(midi_data.instruments)\n",
    "\n",
    "                            notes = []\n",
    "                            for instrument in midi_data.instruments:\n",
    "                                if not instrument.is_drum:\n",
    "                                    notes.extend(instrument.notes)\n",
    "\n",
    "                            notes.sort(key=lambda n: n.start)\n",
    "                            note_chunks = chunk_notes(notes, chunk_size=chunk_size)\n",
    "\n",
    "                            for chunk in note_chunks:\n",
    "                                features = extract_features(chunk, tempo, num_instruments, split, composer, filename)\n",
    "                                if features:\n",
    "                                    data.append(features)\n",
    "\n",
    "                        except Exception as e:\n",
    "                            print(f\"Error reading {file}: {e}\")\n",
    "\n",
    "    return pd.DataFrame(data)"
   ]
  },
  {
   "cell_type": "code",
   "execution_count": 5,
   "id": "5f66a6d6",
   "metadata": {},
   "outputs": [
    {
     "name": "stderr",
     "output_type": "stream",
     "text": [
      "/Users/swathi/.pyenv/versions/3.12.1/lib/python3.12/site-packages/pretty_midi/pretty_midi.py:100: RuntimeWarning: Tempo, Key or Time signature change events found on non-zero tracks.  This is not a valid type 0 or type 1 MIDI file.  Tempo, Key or Time Signature may be wrong.\n",
      "  warnings.warn(\n"
     ]
    },
    {
     "name": "stdout",
     "output_type": "stream",
     "text": [
      "  split composer       filename       tempo  num_instruments   duration  \\\n",
      "0  test   mozart  mozart014.mid  164.921515                6  58.563971   \n",
      "1  test   mozart  mozart014.mid  164.921515                6  45.148796   \n",
      "2  test   mozart  mozart014.mid  164.921515                6  44.516356   \n",
      "3  test   mozart  mozart014.mid  164.921515                6  22.499993   \n",
      "4  test   mozart  mozart014.mid  164.921515                6  29.397313   \n",
      "\n",
      "   note_count  avg_pitch  pitch_range  std_pitch  most_common_pitch  \\\n",
      "0         200     61.960           45  10.106849                 57   \n",
      "1         200     64.055           41   9.802141                 73   \n",
      "2         200     63.385           43   9.934625                 52   \n",
      "3         200     65.885           44  12.524048                 52   \n",
      "4         200     64.695           55  11.828862                 52   \n",
      "\n",
      "   avg_duration  std_duration  note_density  velocity_mean  velocity_std  \\\n",
      "0      0.656957      0.527952      3.415069         63.375      4.029190   \n",
      "1      0.628943      0.596182      4.429797         74.300     14.654692   \n",
      "2      0.922098      1.005321      4.492731         64.700      7.187489   \n",
      "3      0.411049      0.366037      8.888892         67.325      6.439672   \n",
      "4      0.558519      0.410635      6.803343         66.625      6.101998   \n",
      "\n",
      "   avg_chord_size  chord_density  \n",
      "0        1.960784       1.741685  \n",
      "1        1.769912       2.502835  \n",
      "2        2.409639       1.864483  \n",
      "3        2.298851       3.866668  \n",
      "4        2.380952       2.857404  \n",
      "\n",
      "Total samples (augmented): 8338\n",
      "\n",
      "Count by split:\n",
      "split\n",
      "train    7196\n",
      "test      605\n",
      "dev       537\n",
      "Name: count, dtype: int64\n",
      "\n",
      "Count by composer:\n",
      "composer\n",
      "mozart         1637\n",
      "hummel         1464\n",
      "mendelssohn    1352\n",
      "schumann        939\n",
      "handel          802\n",
      "bartok          651\n",
      "chopin          605\n",
      "bach            525\n",
      "byrd            363\n",
      "Name: count, dtype: int64\n"
     ]
    }
   ],
   "source": [
    "zip_path = 'Composer_Dataset.zip'\n",
    "df_augmented = process_zip_to_chunks(zip_path, chunk_size=200)\n",
    "\n",
    "print(df_augmented.head())\n",
    "print(f\"\\nTotal samples (augmented): {len(df_augmented)}\")\n",
    "print(\"\\nCount by split:\")\n",
    "print(df_augmented['split'].value_counts())\n",
    "print(\"\\nCount by composer:\")\n",
    "print(df_augmented['composer'].value_counts())"
   ]
  },
  {
   "cell_type": "code",
   "execution_count": 6,
   "id": "55dcc05f",
   "metadata": {},
   "outputs": [
    {
     "data": {
      "text/plain": [
       "(8338, 18)"
      ]
     },
     "execution_count": 6,
     "metadata": {},
     "output_type": "execute_result"
    }
   ],
   "source": [
    "df_augmented.shape"
   ]
  },
  {
   "cell_type": "code",
   "execution_count": 7,
   "id": "9ca6bf43",
   "metadata": {},
   "outputs": [],
   "source": [
    "label_encoder = LabelEncoder()\n",
    "df_augmented['label'] = label_encoder.fit_transform(df_augmented['composer'])"
   ]
  },
  {
   "cell_type": "code",
   "execution_count": 8,
   "id": "47662f65",
   "metadata": {},
   "outputs": [
    {
     "name": "stdout",
     "output_type": "stream",
     "text": [
      "\n",
      "🎵 Selected MIDI: mozart038.mid by mozart [test]\n",
      "Controls: [p]lay | [s]top | [r]esume | [q]uit\n",
      "\n",
      "🎵 Exiting player.\n"
     ]
    }
   ],
   "source": [
    "# Choose a row from the augmented DataFrame\n",
    "row_id = 10  # You can change this\n",
    "target_file = df_augmented.iloc[row_id]['filename']\n",
    "target_split = df_augmented.iloc[row_id]['split']\n",
    "target_composer = df_augmented.iloc[row_id]['composer']\n",
    "\n",
    "# Rebuild full path inside ZIP\n",
    "target_path_in_zip = f'Composer_Dataset/NN_midi_files_extended/{target_split}/{target_composer}/{target_file}'\n",
    "\n",
    "# Extract and save the MIDI file to a temporary location\n",
    "zip_path = 'Composer_Dataset.zip'\n",
    "with zipfile.ZipFile(zip_path, 'r') as archive:\n",
    "    with archive.open(target_path_in_zip) as midi_file:\n",
    "        with tempfile.NamedTemporaryFile(delete=False, suffix='.mid') as temp_midi:\n",
    "            temp_midi.write(midi_file.read())\n",
    "            temp_midi_path = temp_midi.name\n",
    "\n",
    "# Initialize Pygame Mixer\n",
    "pygame.init()\n",
    "pygame.mixer.init()\n",
    "pygame.mixer.music.load(temp_midi_path)\n",
    "\n",
    "print(f\"\\n🎵 Selected MIDI: {target_file} by {target_composer} [{target_split}]\")\n",
    "print(\"Controls: [p]lay | [s]top | [r]esume | [q]uit\\n\")\n",
    "\n",
    "while True:\n",
    "    cmd = input(\"Enter command: \").strip().lower()\n",
    "\n",
    "    if cmd == 'p':\n",
    "        pygame.mixer.music.play()\n",
    "    elif cmd == 's':\n",
    "        pygame.mixer.music.pause()\n",
    "    elif cmd == 'r':\n",
    "        pygame.mixer.music.unpause()\n",
    "    elif cmd == 'q':\n",
    "        pygame.mixer.music.stop()\n",
    "        print(\"🎵 Exiting player.\")\n",
    "        break\n",
    "    else:\n",
    "        print(\"Invalid command. Use [p]lay, [s]top, [r]esume, [q]uit.\")"
   ]
  },
  {
   "cell_type": "markdown",
   "id": "bcd05507",
   "metadata": {},
   "source": [
    "### Split the dataset"
   ]
  },
  {
   "cell_type": "code",
   "execution_count": 9,
   "id": "8416ab04",
   "metadata": {},
   "outputs": [
    {
     "data": {
      "text/plain": [
       "split                0\n",
       "composer             0\n",
       "filename             0\n",
       "tempo                0\n",
       "num_instruments      0\n",
       "duration             0\n",
       "note_count           0\n",
       "avg_pitch            0\n",
       "pitch_range          0\n",
       "std_pitch            0\n",
       "most_common_pitch    0\n",
       "avg_duration         0\n",
       "std_duration         0\n",
       "note_density         0\n",
       "velocity_mean        0\n",
       "velocity_std         0\n",
       "avg_chord_size       0\n",
       "chord_density        0\n",
       "label                0\n",
       "dtype: int64"
      ]
     },
     "execution_count": 9,
     "metadata": {},
     "output_type": "execute_result"
    }
   ],
   "source": [
    "df_augmented.isnull().sum()"
   ]
  },
  {
   "cell_type": "code",
   "execution_count": 10,
   "id": "b21a52e4",
   "metadata": {},
   "outputs": [],
   "source": [
    "# Separate by split column\n",
    "train_df = df_augmented[df_augmented['split'] == 'train'].reset_index(drop=True)\n",
    "val_df   = df_augmented[df_augmented['split'] == 'dev'].reset_index(drop=True)\n",
    "test_df  = df_augmented[df_augmented['split'] == 'test'].reset_index(drop=True)"
   ]
  },
  {
   "cell_type": "code",
   "execution_count": 11,
   "id": "9bcd0a3c",
   "metadata": {},
   "outputs": [
    {
     "data": {
      "text/plain": [
       "(7196, 19)"
      ]
     },
     "execution_count": 11,
     "metadata": {},
     "output_type": "execute_result"
    }
   ],
   "source": [
    "train_df.shape"
   ]
  },
  {
   "cell_type": "code",
   "execution_count": 12,
   "id": "2949803a",
   "metadata": {},
   "outputs": [
    {
     "data": {
      "text/plain": [
       "(605, 19)"
      ]
     },
     "execution_count": 12,
     "metadata": {},
     "output_type": "execute_result"
    }
   ],
   "source": [
    "test_df.shape"
   ]
  },
  {
   "cell_type": "code",
   "execution_count": 13,
   "id": "927d9178",
   "metadata": {},
   "outputs": [
    {
     "data": {
      "text/plain": [
       "(537, 19)"
      ]
     },
     "execution_count": 13,
     "metadata": {},
     "output_type": "execute_result"
    }
   ],
   "source": [
    "val_df.shape"
   ]
  },
  {
   "cell_type": "code",
   "execution_count": 14,
   "id": "b0c3b9a0",
   "metadata": {},
   "outputs": [],
   "source": [
    "drop_cols = ['split', 'composer', 'filename']\n",
    "\n",
    "# Training data\n",
    "X_train = train_df.drop(columns=drop_cols + ['label'])\n",
    "y_train = train_df['label']\n",
    "\n",
    "# Validation data\n",
    "X_val = val_df.drop(columns=drop_cols + ['label'])\n",
    "y_val = val_df['label']\n",
    "\n",
    "# Test data\n",
    "X_test = test_df.drop(columns=drop_cols + ['label'])\n",
    "y_test = test_df['label']"
   ]
  },
  {
   "cell_type": "code",
   "execution_count": 15,
   "id": "d02e179e",
   "metadata": {},
   "outputs": [
    {
     "name": "stdout",
     "output_type": "stream",
     "text": [
      "X_train: (7196, 15) y_train: (7196,)\n",
      "X_val: (537, 15) y_val: (537,)\n",
      "X_test: (605, 15) y_test: (605,)\n"
     ]
    }
   ],
   "source": [
    "print(\"X_train:\", X_train.shape, \"y_train:\", y_train.shape)\n",
    "print(\"X_val:\", X_val.shape, \"y_val:\", y_val.shape)\n",
    "print(\"X_test:\", X_test.shape, \"y_test:\", y_test.shape)"
   ]
  },
  {
   "cell_type": "markdown",
   "id": "756eb6f8",
   "metadata": {},
   "source": [
    "### Apply StandardScaling"
   ]
  },
  {
   "cell_type": "code",
   "execution_count": 16,
   "id": "add412c6",
   "metadata": {},
   "outputs": [],
   "source": [
    "from sklearn.preprocessing import StandardScaler\n",
    "\n",
    "# Initialize the scaler\n",
    "scaler = StandardScaler()\n",
    "\n",
    "# Fit on training set, transform all sets\n",
    "X_train_scaled = scaler.fit_transform(X_train)\n",
    "X_val_scaled   = scaler.transform(X_val)\n",
    "X_test_scaled  = scaler.transform(X_test)"
   ]
  },
  {
   "cell_type": "code",
   "execution_count": 17,
   "id": "f58bed5d",
   "metadata": {},
   "outputs": [],
   "source": [
    "# Reshape input for LSTM: (samples, timesteps, features)\n",
    "X_train_lstm = X_train_scaled.reshape((X_train_scaled.shape[0], 1, X_train_scaled.shape[1]))\n",
    "X_val_lstm = X_val_scaled.reshape((X_val_scaled.shape[0], 1, X_val_scaled.shape[1]))\n",
    "X_test_lstm = X_test_scaled.reshape((X_test_scaled.shape[0], 1, X_test_scaled.shape[1]))"
   ]
  },
  {
   "cell_type": "code",
   "execution_count": 18,
   "id": "59e6e795",
   "metadata": {},
   "outputs": [],
   "source": [
    "# One-hot encode labels\n",
    "num_classes = len(np.unique(y_train))\n",
    "y_train_cat = to_categorical(y_train, num_classes)\n",
    "y_val_cat = to_categorical(y_val, num_classes)\n",
    "y_test_cat = to_categorical(y_test, num_classes)"
   ]
  },
  {
   "cell_type": "code",
   "execution_count": 32,
   "id": "dd9b66d7",
   "metadata": {},
   "outputs": [],
   "source": [
    "# Build LSTM model\n",
    "model = Sequential([\n",
    "    Input(shape=(1, X_train_scaled.shape[1])), \n",
    "    LSTM(64, return_sequences=True),\n",
    "    Dropout(0.3),\n",
    "    LSTM(32),\n",
    "    Dropout(0.3),\n",
    "    Dense(32, activation='relu'),\n",
    "    Dense(num_classes, activation='softmax')\n",
    "])"
   ]
  },
  {
   "cell_type": "code",
   "execution_count": 23,
   "id": "21a1979d",
   "metadata": {},
   "outputs": [
    {
     "name": "stdout",
     "output_type": "stream",
     "text": [
      "Epoch 1/30\n",
      "\u001b[1m225/225\u001b[0m \u001b[32m━━━━━━━━━━━━━━━━━━━━\u001b[0m\u001b[37m\u001b[0m \u001b[1m1s\u001b[0m 1ms/step - accuracy: 0.3302 - loss: 1.9973 - val_accuracy: 0.5773 - val_loss: 1.2454\n",
      "Epoch 2/30\n",
      "\u001b[1m225/225\u001b[0m \u001b[32m━━━━━━━━━━━━━━━━━━━━\u001b[0m\u001b[37m\u001b[0m \u001b[1m0s\u001b[0m 727us/step - accuracy: 0.6114 - loss: 1.1248 - val_accuracy: 0.6127 - val_loss: 1.0792\n",
      "Epoch 3/30\n",
      "\u001b[1m225/225\u001b[0m \u001b[32m━━━━━━━━━━━━━━━━━━━━\u001b[0m\u001b[37m\u001b[0m \u001b[1m0s\u001b[0m 730us/step - accuracy: 0.6479 - loss: 0.9655 - val_accuracy: 0.6145 - val_loss: 1.0362\n",
      "Epoch 4/30\n",
      "\u001b[1m225/225\u001b[0m \u001b[32m━━━━━━━━━━━━━━━━━━━━\u001b[0m\u001b[37m\u001b[0m \u001b[1m0s\u001b[0m 725us/step - accuracy: 0.6768 - loss: 0.8614 - val_accuracy: 0.6592 - val_loss: 0.9582\n",
      "Epoch 5/30\n",
      "\u001b[1m225/225\u001b[0m \u001b[32m━━━━━━━━━━━━━━━━━━━━\u001b[0m\u001b[37m\u001b[0m \u001b[1m0s\u001b[0m 732us/step - accuracy: 0.6949 - loss: 0.8038 - val_accuracy: 0.6034 - val_loss: 0.9810\n",
      "Epoch 6/30\n",
      "\u001b[1m225/225\u001b[0m \u001b[32m━━━━━━━━━━━━━━━━━━━━\u001b[0m\u001b[37m\u001b[0m \u001b[1m0s\u001b[0m 725us/step - accuracy: 0.7045 - loss: 0.7819 - val_accuracy: 0.6369 - val_loss: 1.0085\n",
      "Epoch 7/30\n",
      "\u001b[1m225/225\u001b[0m \u001b[32m━━━━━━━━━━━━━━━━━━━━\u001b[0m\u001b[37m\u001b[0m \u001b[1m0s\u001b[0m 752us/step - accuracy: 0.7201 - loss: 0.7418 - val_accuracy: 0.6536 - val_loss: 0.9743\n",
      "Epoch 8/30\n",
      "\u001b[1m225/225\u001b[0m \u001b[32m━━━━━━━━━━━━━━━━━━━━\u001b[0m\u001b[37m\u001b[0m \u001b[1m0s\u001b[0m 741us/step - accuracy: 0.7453 - loss: 0.6831 - val_accuracy: 0.6369 - val_loss: 1.0068\n",
      "Epoch 9/30\n",
      "\u001b[1m225/225\u001b[0m \u001b[32m━━━━━━━━━━━━━━━━━━━━\u001b[0m\u001b[37m\u001b[0m \u001b[1m0s\u001b[0m 705us/step - accuracy: 0.7473 - loss: 0.6654 - val_accuracy: 0.6313 - val_loss: 1.0173\n",
      "Epoch 10/30\n",
      "\u001b[1m225/225\u001b[0m \u001b[32m━━━━━━━━━━━━━━━━━━━━\u001b[0m\u001b[37m\u001b[0m \u001b[1m0s\u001b[0m 724us/step - accuracy: 0.7480 - loss: 0.6522 - val_accuracy: 0.6462 - val_loss: 1.0047\n",
      "Epoch 11/30\n",
      "\u001b[1m225/225\u001b[0m \u001b[32m━━━━━━━━━━━━━━━━━━━━\u001b[0m\u001b[37m\u001b[0m \u001b[1m0s\u001b[0m 705us/step - accuracy: 0.7691 - loss: 0.6186 - val_accuracy: 0.6462 - val_loss: 1.0085\n",
      "Epoch 12/30\n",
      "\u001b[1m225/225\u001b[0m \u001b[32m━━━━━━━━━━━━━━━━━━━━\u001b[0m\u001b[37m\u001b[0m \u001b[1m0s\u001b[0m 713us/step - accuracy: 0.7739 - loss: 0.6113 - val_accuracy: 0.6350 - val_loss: 1.0508\n",
      "Epoch 13/30\n",
      "\u001b[1m225/225\u001b[0m \u001b[32m━━━━━━━━━━━━━━━━━━━━\u001b[0m\u001b[37m\u001b[0m \u001b[1m0s\u001b[0m 707us/step - accuracy: 0.7723 - loss: 0.5999 - val_accuracy: 0.6220 - val_loss: 1.0020\n",
      "Epoch 14/30\n",
      "\u001b[1m225/225\u001b[0m \u001b[32m━━━━━━━━━━━━━━━━━━━━\u001b[0m\u001b[37m\u001b[0m \u001b[1m0s\u001b[0m 708us/step - accuracy: 0.7751 - loss: 0.5878 - val_accuracy: 0.6294 - val_loss: 1.0426\n",
      "Epoch 15/30\n",
      "\u001b[1m225/225\u001b[0m \u001b[32m━━━━━━━━━━━━━━━━━━━━\u001b[0m\u001b[37m\u001b[0m \u001b[1m0s\u001b[0m 702us/step - accuracy: 0.7892 - loss: 0.5727 - val_accuracy: 0.6313 - val_loss: 1.1536\n",
      "Epoch 16/30\n",
      "\u001b[1m225/225\u001b[0m \u001b[32m━━━━━━━━━━━━━━━━━━━━\u001b[0m\u001b[37m\u001b[0m \u001b[1m0s\u001b[0m 756us/step - accuracy: 0.7774 - loss: 0.5679 - val_accuracy: 0.6201 - val_loss: 1.1165\n",
      "Epoch 17/30\n",
      "\u001b[1m225/225\u001b[0m \u001b[32m━━━━━━━━━━━━━━━━━━━━\u001b[0m\u001b[37m\u001b[0m \u001b[1m0s\u001b[0m 768us/step - accuracy: 0.7893 - loss: 0.5356 - val_accuracy: 0.6331 - val_loss: 1.1946\n",
      "Epoch 18/30\n",
      "\u001b[1m225/225\u001b[0m \u001b[32m━━━━━━━━━━━━━━━━━━━━\u001b[0m\u001b[37m\u001b[0m \u001b[1m0s\u001b[0m 710us/step - accuracy: 0.7945 - loss: 0.5480 - val_accuracy: 0.6257 - val_loss: 1.1579\n",
      "Epoch 19/30\n",
      "\u001b[1m225/225\u001b[0m \u001b[32m━━━━━━━━━━━━━━━━━━━━\u001b[0m\u001b[37m\u001b[0m \u001b[1m0s\u001b[0m 719us/step - accuracy: 0.8028 - loss: 0.5298 - val_accuracy: 0.6164 - val_loss: 1.2442\n",
      "Epoch 20/30\n",
      "\u001b[1m225/225\u001b[0m \u001b[32m━━━━━━━━━━━━━━━━━━━━\u001b[0m\u001b[37m\u001b[0m \u001b[1m0s\u001b[0m 712us/step - accuracy: 0.8082 - loss: 0.5214 - val_accuracy: 0.6052 - val_loss: 1.2121\n",
      "Epoch 21/30\n",
      "\u001b[1m225/225\u001b[0m \u001b[32m━━━━━━━━━━━━━━━━━━━━\u001b[0m\u001b[37m\u001b[0m \u001b[1m0s\u001b[0m 826us/step - accuracy: 0.8225 - loss: 0.4790 - val_accuracy: 0.6164 - val_loss: 1.2479\n",
      "Epoch 22/30\n",
      "\u001b[1m225/225\u001b[0m \u001b[32m━━━━━━━━━━━━━━━━━━━━\u001b[0m\u001b[37m\u001b[0m \u001b[1m0s\u001b[0m 831us/step - accuracy: 0.8231 - loss: 0.4958 - val_accuracy: 0.6127 - val_loss: 1.1889\n",
      "Epoch 23/30\n",
      "\u001b[1m225/225\u001b[0m \u001b[32m━━━━━━━━━━━━━━━━━━━━\u001b[0m\u001b[37m\u001b[0m \u001b[1m0s\u001b[0m 835us/step - accuracy: 0.8183 - loss: 0.4925 - val_accuracy: 0.6108 - val_loss: 1.3421\n",
      "Epoch 24/30\n",
      "\u001b[1m225/225\u001b[0m \u001b[32m━━━━━━━━━━━━━━━━━━━━\u001b[0m\u001b[37m\u001b[0m \u001b[1m0s\u001b[0m 772us/step - accuracy: 0.8125 - loss: 0.4909 - val_accuracy: 0.6164 - val_loss: 1.2276\n",
      "Epoch 25/30\n",
      "\u001b[1m225/225\u001b[0m \u001b[32m━━━━━━━━━━━━━━━━━━━━\u001b[0m\u001b[37m\u001b[0m \u001b[1m0s\u001b[0m 753us/step - accuracy: 0.8102 - loss: 0.5067 - val_accuracy: 0.6145 - val_loss: 1.3155\n",
      "Epoch 26/30\n",
      "\u001b[1m225/225\u001b[0m \u001b[32m━━━━━━━━━━━━━━━━━━━━\u001b[0m\u001b[37m\u001b[0m \u001b[1m0s\u001b[0m 722us/step - accuracy: 0.8271 - loss: 0.4577 - val_accuracy: 0.6201 - val_loss: 1.3959\n",
      "Epoch 27/30\n",
      "\u001b[1m225/225\u001b[0m \u001b[32m━━━━━━━━━━━━━━━━━━━━\u001b[0m\u001b[37m\u001b[0m \u001b[1m0s\u001b[0m 706us/step - accuracy: 0.8258 - loss: 0.4779 - val_accuracy: 0.6164 - val_loss: 1.3859\n",
      "Epoch 28/30\n",
      "\u001b[1m225/225\u001b[0m \u001b[32m━━━━━━━━━━━━━━━━━━━━\u001b[0m\u001b[37m\u001b[0m \u001b[1m0s\u001b[0m 706us/step - accuracy: 0.8266 - loss: 0.4773 - val_accuracy: 0.6108 - val_loss: 1.4076\n",
      "Epoch 29/30\n",
      "\u001b[1m225/225\u001b[0m \u001b[32m━━━━━━━━━━━━━━━━━━━━\u001b[0m\u001b[37m\u001b[0m \u001b[1m0s\u001b[0m 702us/step - accuracy: 0.8302 - loss: 0.4579 - val_accuracy: 0.6182 - val_loss: 1.3509\n",
      "Epoch 30/30\n",
      "\u001b[1m225/225\u001b[0m \u001b[32m━━━━━━━━━━━━━━━━━━━━\u001b[0m\u001b[37m\u001b[0m \u001b[1m0s\u001b[0m 813us/step - accuracy: 0.8263 - loss: 0.4481 - val_accuracy: 0.6089 - val_loss: 1.3995\n"
     ]
    }
   ],
   "source": [
    "from tensorflow.keras.optimizers import Adam\n",
    "learning_rate = 0.001  \n",
    "optimizer = Adam(learning_rate=learning_rate)\n",
    "\n",
    "model.compile(optimizer='adam', loss='categorical_crossentropy', metrics=['accuracy'])\n",
    "\n",
    "# Train the model\n",
    "history = model.fit(\n",
    "    X_train_lstm, y_train_cat,\n",
    "    epochs=30,\n",
    "    batch_size=32,\n",
    "    validation_data=(X_val_lstm, y_val_cat),\n",
    "    verbose=1\n",
    ")"
   ]
  },
  {
   "cell_type": "code",
   "execution_count": 24,
   "id": "492e17ea",
   "metadata": {},
   "outputs": [
    {
     "name": "stdout",
     "output_type": "stream",
     "text": [
      "Test Accuracy: 0.6876\n"
     ]
    }
   ],
   "source": [
    "# Evaluate\n",
    "test_loss, test_acc = model.evaluate(X_test_lstm, y_test_cat, verbose=0)\n",
    "print(f\"Test Accuracy: {test_acc:.4f}\")"
   ]
  },
  {
   "cell_type": "code",
   "execution_count": 25,
   "id": "e2c421d8",
   "metadata": {},
   "outputs": [
    {
     "name": "stdout",
     "output_type": "stream",
     "text": [
      "\u001b[1m19/19\u001b[0m \u001b[32m━━━━━━━━━━━━━━━━━━━━\u001b[0m\u001b[37m\u001b[0m \u001b[1m0s\u001b[0m 5ms/step\n"
     ]
    }
   ],
   "source": [
    "# Predict\n",
    "y_pred = np.argmax(model.predict(X_test_lstm), axis=1)"
   ]
  },
  {
   "cell_type": "code",
   "execution_count": 26,
   "id": "5f843de2",
   "metadata": {},
   "outputs": [
    {
     "name": "stdout",
     "output_type": "stream",
     "text": [
      "              precision    recall  f1-score   support\n",
      "\n",
      "           0       0.68      0.89      0.78        56\n",
      "           1       1.00      0.09      0.16        35\n",
      "           2       0.78      1.00      0.88        25\n",
      "           3       0.72      0.90      0.80        48\n",
      "           4       0.98      0.71      0.82        75\n",
      "           5       0.62      0.87      0.72       136\n",
      "           6       0.76      0.42      0.55        99\n",
      "           7       0.78      0.67      0.72        91\n",
      "           8       0.36      0.53      0.42        40\n",
      "\n",
      "    accuracy                           0.69       605\n",
      "   macro avg       0.74      0.67      0.65       605\n",
      "weighted avg       0.74      0.69      0.67       605\n",
      "\n"
     ]
    }
   ],
   "source": [
    "# Classification report\n",
    "print(classification_report(y_test, y_pred))"
   ]
  },
  {
   "cell_type": "code",
   "execution_count": 27,
   "id": "fae4b90f",
   "metadata": {},
   "outputs": [
    {
     "data": {
      "image/png": "[encoded data removed]",
      "text/plain": [
       "<Figure size 1000x800 with 2 Axes>"
      ]
     },
     "metadata": {},
     "output_type": "display_data"
    }
   ],
   "source": [
    "# Generate confusion matrix\n",
    "cm = confusion_matrix(y_test, y_pred)\n",
    "class_names = label_encoder.classes_\n",
    "\n",
    "# Plot confusion matrix\n",
    "plt.figure(figsize=(10, 8))\n",
    "sns.heatmap(cm, annot=True, fmt='d', cmap='Blues',\n",
    "            xticklabels=class_names,\n",
    "            yticklabels=class_names)\n",
    "\n",
    "plt.xlabel('Predicted')\n",
    "plt.ylabel('Actual')\n",
    "plt.title('Confusion Matrix - Composer Classification')\n",
    "plt.xticks(rotation=45)\n",
    "plt.yticks(rotation=45)\n",
    "plt.tight_layout()\n",
    "plt.show()"
   ]
  },
  {
   "cell_type": "markdown",
   "id": "69042a60",
   "metadata": {},
   "source": [
    "### Wanted to perform grid search here to implement using LSTM for multi classification"
   ]
  },
  {
   "cell_type": "code",
   "execution_count": 33,
   "id": "50935dd8",
   "metadata": {},
   "outputs": [
    {
     "name": "stdout",
     "output_type": "stream",
     "text": [
      "\n",
      "Training model with lr=0.001, lstm_units=32, dropout=0.3\n",
      "\u001b[1m17/17\u001b[0m \u001b[32m━━━━━━━━━━━━━━━━━━━━\u001b[0m\u001b[37m\u001b[0m \u001b[1m0s\u001b[0m 6ms/step\n",
      "Validation Accuracy: 0.6145\n",
      "\n",
      "Training model with lr=0.001, lstm_units=32, dropout=0.5\n",
      "\u001b[1m17/17\u001b[0m \u001b[32m━━━━━━━━━━━━━━━━━━━━\u001b[0m\u001b[37m\u001b[0m \u001b[1m0s\u001b[0m 6ms/step\n",
      "Validation Accuracy: 0.6052\n",
      "\n",
      "Training model with lr=0.001, lstm_units=64, dropout=0.3\n",
      "\u001b[1m17/17\u001b[0m \u001b[32m━━━━━━━━━━━━━━━━━━━━\u001b[0m\u001b[37m\u001b[0m \u001b[1m0s\u001b[0m 6ms/step\n",
      "Validation Accuracy: 0.6089\n",
      "\n",
      "Training model with lr=0.001, lstm_units=64, dropout=0.5\n",
      "\u001b[1m17/17\u001b[0m \u001b[32m━━━━━━━━━━━━━━━━━━━━\u001b[0m\u001b[37m\u001b[0m \u001b[1m0s\u001b[0m 6ms/step\n",
      "Validation Accuracy: 0.6052\n",
      "\n",
      "Training model with lr=0.0005, lstm_units=32, dropout=0.3\n",
      "\u001b[1m17/17\u001b[0m \u001b[32m━━━━━━━━━━━━━━━━━━━━\u001b[0m\u001b[37m\u001b[0m \u001b[1m0s\u001b[0m 6ms/step\n",
      "Validation Accuracy: 0.6071\n",
      "\n",
      "Training model with lr=0.0005, lstm_units=32, dropout=0.5\n",
      "\u001b[1m17/17\u001b[0m \u001b[32m━━━━━━━━━━━━━━━━━━━━\u001b[0m\u001b[37m\u001b[0m \u001b[1m0s\u001b[0m 6ms/step\n",
      "Validation Accuracy: 0.6052\n",
      "\n",
      "Training model with lr=0.0005, lstm_units=64, dropout=0.3\n",
      "\u001b[1m17/17\u001b[0m \u001b[32m━━━━━━━━━━━━━━━━━━━━\u001b[0m\u001b[37m\u001b[0m \u001b[1m0s\u001b[0m 6ms/step\n",
      "Validation Accuracy: 0.6145\n",
      "\n",
      "Training model with lr=0.0005, lstm_units=64, dropout=0.5\n",
      "\u001b[1m17/17\u001b[0m \u001b[32m━━━━━━━━━━━━━━━━━━━━\u001b[0m\u001b[37m\u001b[0m \u001b[1m0s\u001b[0m 6ms/step\n",
      "Validation Accuracy: 0.6127\n",
      "\n",
      "Best Hyperparameters:\n",
      "{'lr': 0.001, 'units': 32, 'dropout': 0.3}\n",
      "Best Validation Accuracy: 0.6145\n"
     ]
    }
   ],
   "source": [
    "from tensorflow.keras.models import Sequential\n",
    "from tensorflow.keras.layers import LSTM, Dense, Dropout\n",
    "from tensorflow.keras.utils import to_categorical\n",
    "from tensorflow.keras.optimizers import Adam\n",
    "from sklearn.metrics import accuracy_score\n",
    "\n",
    "# Example search space\n",
    "learning_rates = [0.001, 0.0005]\n",
    "lstm_units = [32, 64]\n",
    "dropout_rates = [0.3, 0.5]\n",
    "\n",
    "best_acc = 0\n",
    "best_params = {}\n",
    "\n",
    "for lr in learning_rates:\n",
    "    for units in lstm_units:\n",
    "        for drop in dropout_rates:\n",
    "            print(f\"\\nTraining model with lr={lr}, lstm_units={units}, dropout={drop}\")\n",
    "            \n",
    "            model = Sequential([\n",
    "                Input(shape=(1, X_train_scaled.shape[1])),  # First layer defines input shape\n",
    "                LSTM(units, return_sequences=True),\n",
    "                Dropout(drop),\n",
    "                LSTM(units // 2),\n",
    "                Dropout(drop),\n",
    "                Dense(32, activation='relu'),\n",
    "                Dense(num_classes, activation='softmax')\n",
    "            ])\n",
    "            \n",
    "            optimizer = Adam(learning_rate=lr)\n",
    "            model.compile(optimizer=optimizer, loss='categorical_crossentropy', metrics=['accuracy'])\n",
    "\n",
    "            model.fit(\n",
    "                X_train_lstm, y_train_cat,\n",
    "                epochs=100,  # use fewer epochs for faster tuning\n",
    "                batch_size=32,\n",
    "                validation_data=(X_val_lstm, y_val_cat),\n",
    "                verbose=0\n",
    "            )\n",
    "\n",
    "            y_val_pred = np.argmax(model.predict(X_val_lstm), axis=1)\n",
    "            acc = accuracy_score(y_val, y_val_pred)\n",
    "\n",
    "            print(f\"Validation Accuracy: {acc:.4f}\")\n",
    "            if acc > best_acc:\n",
    "                best_acc = acc\n",
    "                best_params = {'lr': lr, 'units': units, 'dropout': drop}\n",
    "\n",
    "print(\"\\nBest Hyperparameters:\")\n",
    "print(best_params)\n",
    "print(f\"Best Validation Accuracy: {best_acc:.4f}\")"
   ]
  }
 ],
 "metadata": {
  "kernelspec": {
   "display_name": "Python 3",
   "language": "python",
   "name": "python3"
  },
  "language_info": {
   "codemirror_mode": {
    "name": "ipython",
    "version": 3
   },
   "file_extension": ".py",
   "mimetype": "text/x-python",
   "name": "python",
   "nbconvert_exporter": "python",
   "pygments_lexer": "ipython3",
   "version": "3.12.1"
  }
 },
 "nbformat": 4,
 "nbformat_minor": 5
}
