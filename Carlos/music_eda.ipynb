{
 "cells": [
  {
   "cell_type": "markdown",
   "metadata": {},
   "source": [
    "# Classical music composer classifier"
   ]
  },
  {
   "cell_type": "code",
   "execution_count": 1,
   "metadata": {},
   "outputs": [],
   "source": [
    "#from preprocessing import helper_preprocessing as hpp\n",
    "from preprocessing import barebones_helper_preprocessing as hpp\n",
    "import splitfolders\n",
    "\n",
    "import warnings            \n",
    "warnings.filterwarnings(\"ignore\") "
   ]
  },
  {
   "cell_type": "code",
   "execution_count": 2,
   "metadata": {},
   "outputs": [
    {
     "name": "stdout",
     "output_type": "stream",
     "text": [
      "Succesfully initialized ['selected-composers/', 'composers-extracted-features/', 'showviz-reports/', 'split-selected-composers/', 'chunked-selected-composers/'].\n"
     ]
    }
   ],
   "source": [
    "input_dir = \"midi-classic-music/midiclassics/\"\n",
    "out_dir = \"selected-composers/\"\n",
    "extracted_features_dir = \"composers-extracted-features/\"\n",
    "showviz_reports_dir = \"showviz-reports/\"\n",
    "train_test_val_dir = \"split-selected-composers/\"\n",
    "chunked_out_dir = \"chunked-selected-composers/\"\n",
    "composers = [\"Bach\", \"Beethoven\", \"Chopin\", \"Mozart\"]\n",
    "\n",
    "#missing folder_creation (as if the directory was blank, tabula rasa)\n",
    "hpp.folder_initializer(out_dir, extracted_features_dir, showviz_reports_dir, train_test_val_dir, chunked_out_dir, composers)"
   ]
  },
  {
   "cell_type": "code",
   "execution_count": null,
   "metadata": {},
   "outputs": [],
   "source": [
    "hpp.selected_composer_extractor(input_dir, out_dir, composers)\n",
    "hpp.midi_feature_composer_extractor(out_dir, extracted_features_dir, composers)"
   ]
  },
  {
   "cell_type": "code",
   "execution_count": null,
   "metadata": {},
   "outputs": [
    {
     "name": "stdout",
     "output_type": "stream",
     "text": [
      "Composer Bach\n",
      "Composekkkr Bach\n"
     ]
    },
    {
     "name": "stderr",
     "output_type": "stream",
     "text": [
      "Done! Use 'show' commands to display/save.   |██████████| [100%]   00:00 -> (00:00 left)\n"
     ]
    },
    {
     "name": "stdout",
     "output_type": "stream",
     "text": [
      "Report showviz-reports/sweetviz_eda_Bach.html was generated.\n",
      "Composer Beethoven\n",
      "Composekkkr Beethoven\n"
     ]
    },
    {
     "name": "stderr",
     "output_type": "stream",
     "text": [
      "Done! Use 'show' commands to display/save.   |██████████| [100%]   00:00 -> (00:00 left)\n"
     ]
    },
    {
     "name": "stdout",
     "output_type": "stream",
     "text": [
      "Report showviz-reports/sweetviz_eda_Beethoven.html was generated.\n",
      "Composer Chopin\n",
      "Composekkkr Chopin\n"
     ]
    },
    {
     "name": "stderr",
     "output_type": "stream",
     "text": [
      "Done! Use 'show' commands to display/save.   |██████████| [100%]   00:00 -> (00:00 left)\n"
     ]
    },
    {
     "name": "stdout",
     "output_type": "stream",
     "text": [
      "Report showviz-reports/sweetviz_eda_Chopin.html was generated.\n",
      "Composer Mozart\n",
      "Composekkkr Mozart\n"
     ]
    },
    {
     "name": "stderr",
     "output_type": "stream",
     "text": [
      "Done! Use 'show' commands to display/save.   |██████████| [100%]   00:00 -> (00:00 left)\n"
     ]
    },
    {
     "name": "stdout",
     "output_type": "stream",
     "text": [
      "Report showviz-reports/sweetviz_eda_Mozart.html was generated.\n"
     ]
    },
    {
     "name": "stderr",
     "output_type": "stream",
     "text": [
      "Done! Use 'show' commands to display/save.   |██████████| [100%]   00:00 -> (00:00 left)"
     ]
    },
    {
     "name": "stdout",
     "output_type": "stream",
     "text": [
      "Report showviz-reports/sweetviz_all_eda.html was generated.\n",
      "Succesfully aggregated the csvs to a DataFrame folder.\n"
     ]
    },
    {
     "name": "stderr",
     "output_type": "stream",
     "text": [
      "\n"
     ]
    }
   ],
   "source": [
    "popup_browser = False\n",
    "hpp.showviz_report_creator(showviz_reports_dir, hpp.midi_feature_composer_aggregator(extracted_features_dir), popup=popup_browser)"
   ]
  },
  {
   "cell_type": "markdown",
   "metadata": {},
   "source": [
    "This is where I am at...\n",
    "missing normalization via standard scaling, and class imbalance handling\n",
    "chunking takes place either before or after"
   ]
  },
  {
   "cell_type": "code",
   "execution_count": null,
   "metadata": {},
   "outputs": [],
   "source": [
    "hpp.midi_feature_segment_extractor(input_dir, out_dir, composers)\n",
    "splitfolders.ratio(out_dir, output=train_test_val_dir, seed=36, ratio=(.6,.2,.2))\n",
    "hpp.intermediary_folder_handler(train_test_val_dir, chunked_out_dir, composers)"
   ]
  },
  {
   "cell_type": "markdown",
   "metadata": {},
   "source": [
    "Extracting non-midi related features, might not be feasible..."
   ]
  },
  {
   "cell_type": "markdown",
   "metadata": {},
   "source": [
    "Build helper cnn and lstm classes"
   ]
  },
  {
   "cell_type": "markdown",
   "metadata": {},
   "source": [
    "Capuchin search instead of grid-search, might not be feasible..."
   ]
  }
 ],
 "metadata": {
  "kernelspec": {
   "display_name": "venv",
   "language": "python",
   "name": "python3"
  },
  "language_info": {
   "codemirror_mode": {
    "name": "ipython",
    "version": 3
   },
   "file_extension": ".py",
   "mimetype": "text/x-python",
   "name": "python",
   "nbconvert_exporter": "python",
   "pygments_lexer": "ipython3",
   "version": "3.12.3"
  }
 },
 "nbformat": 4,
 "nbformat_minor": 2
}
